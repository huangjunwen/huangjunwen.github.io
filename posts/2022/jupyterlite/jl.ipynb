{
 "cells": [
  {
   "cell_type": "markdown",
   "metadata": {},
   "source": [
    "最近总是接触各种\n",
    "Jupyter…（JupyterLab/JupyterHub），发现居然还有可以完全跑在浏览器上的\n",
    "[Jupyterlite](https://github.com/jupyterlite/jupyterlite)，那是不是可以直接放一个到这儿呢？\n",
    "\n",
    "## 大致的概念\n",
    "\n",
    "原来的 Jupyter 是传统的 CS 模式，各种语言（e.g. python）的 kernel\n",
    "是跑在服务端的\n",
    "\n",
    "但现在也有了 python（和一些常用的库）的 WebAssembly\n",
    "移植版（e.g. [pyodide](https://pyodide.org/en/stable/)）， 这样一来\n",
    "kernel 也可以在浏览器上实现了\n",
    "（e.g. [pyolite](https://jupyterlite.readthedocs.io/en/latest/quickstart/using.html#a-python-kernel-powered-by-pyodide)），\n",
    "因此可以创建一个全静态的 site，UI 和 kernel 都在浏览器中运行， 中间用\n",
    "[mock-socket](https://jupyterlite.readthedocs.io/en/latest/quickstart/using.html#kernels)\n",
    "假装通讯， 完整地把 notebook 那一套 CS 模式移植过来\n",
    "\n",
    "## 部署\n",
    "\n",
    "*2023-04-07 更新*\n",
    "\n",
    "目前 jupyterlite 已经发布 0.1.0 版本，部署到 gthub page\n",
    "已十分简单，基本上就是 clone 一个 template repo\n",
    "即可，见[这里](https://jupyterlite.readthedocs.io/en/latest/quickstart/deploy.html)\n",
    "\n",
    "## 内容\n",
    "\n",
    "在 repo 里有一个 content 目录，把内容（例如 ipynb 文件）放入该目录即可\n",
    "\n",
    "另外发现\n",
    "<https://github.com/jupyterlab-contrib/jupyterlab-open-url-parameter>\n",
    "安装了该 extension 后允许在 url 参数中直接指定内容的地址， 例如访问\n",
    "\n",
    "> <https://your-name.github.io/jupyterlite/lab/?fromURL=/path/to/your.ipynb>\n",
    "\n",
    "则打开的 jupyterlite 会自动打开该 notebook\n",
    "\n",
    "## 使用\n",
    "\n",
    "### 不同之处\n",
    "\n",
    "原 CS 模式下，packages 是在服务器上安装好，可以直接 `import`，而在\n",
    "jupyterlite 中，似乎除 pyodide 自带的那些包外， 需要首先\n",
    "`piplite.install` 才能 `import`，例如："
   ],
   "id": "fbf1c09c-3720-42c5-bb2d-321565b7c11e"
  },
  {
   "cell_type": "code",
   "execution_count": null,
   "metadata": {},
   "outputs": [],
   "source": [
    "import pyjokes\n",
    "pyjokes.get_joke()"
   ],
   "id": "9a444158-f907-4187-bfee-a1c9994c177e"
  },
  {
   "cell_type": "markdown",
   "metadata": {},
   "source": [
    "这是会失败的"
   ],
   "id": "0eed73a5-176b-413c-96c1-b6420e426b78"
  },
  {
   "cell_type": "code",
   "execution_count": null,
   "metadata": {},
   "outputs": [],
   "source": [
    "import piplite\n",
    "await piplite.install('pyjokes')\n",
    "import pyjokes\n",
    "pyjokes.get_joke()"
   ],
   "id": "8af1573d-3ef4-438c-9d44-8757795ad01a"
  },
  {
   "cell_type": "markdown",
   "metadata": {},
   "source": [
    "这样才行，看看[效果](/jl/lab?fromURL=/posts/2022/jupyterlite/jl.ipynb)"
   ],
   "id": "38539860-7e68-43a0-a9ff-119c3af09de1"
  }
 ],
 "nbformat": 4,
 "nbformat_minor": 5,
 "metadata": {}
}
